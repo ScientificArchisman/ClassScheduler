{
 "cells": [
  {
   "cell_type": "code",
   "execution_count": 125,
   "metadata": {},
   "outputs": [],
   "source": [
    "import sys\n",
    "import os\n",
    "from chromosome_generator import generate_chromosome, chromosome_to_json, Gene\n",
    "from population_generator import  generate_population, population_to_json\n",
    "from fitness_func import  calculate_fitness, check_room_changes\n",
    "\n",
    "# Set the path to the parent directory\n",
    "parent_dir = os.path.abspath(os.path.join(os.getcwd(), '..'))\n",
    "if parent_dir not in sys.path:\n",
    "    sys.path.append(parent_dir)\n",
    "\n",
    "from input_handler import get_data_from_files"
   ]
  },
  {
   "cell_type": "code",
   "execution_count": 113,
   "metadata": {},
   "outputs": [],
   "source": [
    "courses_path = \"/Users/archismanchakraborti/Desktop/ClassScheduler/data/courses.txt\"\n",
    "rooms_path = \"/Users/archismanchakraborti/Desktop/ClassScheduler/data/rooms.txt\"\n",
    "instruc_path = \"/Users/archismanchakraborti/Desktop/ClassScheduler/data/instructors.txt\"\n",
    "students_path = \"/Users/archismanchakraborti/Desktop/ClassScheduler/data/students.txt\""
   ]
  },
  {
   "cell_type": "code",
   "execution_count": 114,
   "metadata": {},
   "outputs": [],
   "source": [
    "courses, instructors, rooms, students = get_data_from_files()"
   ]
  },
  {
   "cell_type": "code",
   "execution_count": 118,
   "metadata": {},
   "outputs": [],
   "source": [
    "def display_chromosome(chromosome):\n",
    "    for gene in chromosome:\n",
    "        print(f\"Course: {gene.course.name}, Instructor: {gene.instructor.name}, Room: {gene.room.name}, Day: {gene.day}, Time Slot: {gene.time_slot}\")\n",
    "        \n",
    "chromosome_data = generate_chromosome(courses, instructors, rooms)"
   ]
  },
  {
   "cell_type": "code",
   "execution_count": 127,
   "metadata": {},
   "outputs": [],
   "source": [
    "population_size = 10\n",
    "population = generate_population(population_size, courses, instructors, rooms)\n",
    "prerequisites = {\n",
    "    \"Math 201\": [\"Math 101\"],\n",
    "    \"Physics 201\": [\"Physics 101\", \"Math 101\"],\n",
    "    \"Chemistry 201\": [\"Chemistry 101\"]\n",
    "}\n",
    "chromosome = population[0]"
   ]
  },
  {
   "cell_type": "code",
   "execution_count": 129,
   "metadata": {},
   "outputs": [
    {
     "ename": "AttributeError",
     "evalue": "'str' object has no attribute 'keys'",
     "output_type": "error",
     "traceback": [
      "\u001b[0;31m---------------------------------------------------------------------------\u001b[0m",
      "\u001b[0;31mAttributeError\u001b[0m                            Traceback (most recent call last)",
      "Cell \u001b[0;32mIn[129], line 1\u001b[0m\n\u001b[0;32m----> 1\u001b[0m \u001b[43mcalculate_fitness\u001b[49m\u001b[43m(\u001b[49m\u001b[43mchromosome\u001b[49m\u001b[43m,\u001b[49m\u001b[43m \u001b[49m\u001b[43mprerequisites\u001b[49m\u001b[43m)\u001b[49m\n",
      "File \u001b[0;32m~/Desktop/ClassScheduler/python/components/fitness_func.py:107\u001b[0m, in \u001b[0;36mcalculate_fitness\u001b[0;34m(chromosome, prerequisites)\u001b[0m\n\u001b[1;32m    105\u001b[0m \u001b[38;5;66;03m# Minimize room changes for students\u001b[39;00m\n\u001b[1;32m    106\u001b[0m \u001b[38;5;28;01mfor\u001b[39;00m student_id \u001b[38;5;129;01min\u001b[39;00m course\u001b[38;5;241m.\u001b[39menrolled_students:\n\u001b[0;32m--> 107\u001b[0m     \u001b[38;5;28;01mif\u001b[39;00m student_id \u001b[38;5;129;01min\u001b[39;00m student_schedule \u001b[38;5;129;01mand\u001b[39;00m \u001b[43mcheck_room_changes\u001b[49m\u001b[43m(\u001b[49m\u001b[43mstudent_schedule\u001b[49m\u001b[43m[\u001b[49m\u001b[43mstudent_id\u001b[49m\u001b[43m]\u001b[49m\u001b[43m,\u001b[49m\u001b[43m \u001b[49m\u001b[43mroom\u001b[49m\u001b[38;5;241;43m.\u001b[39;49m\u001b[43mid\u001b[49m\u001b[43m)\u001b[49m:\n\u001b[1;32m    108\u001b[0m         fitness \u001b[38;5;241m+\u001b[39m\u001b[38;5;241m=\u001b[39m SOFT_CONSTRAINT_PENALTY\n\u001b[1;32m    110\u001b[0m \u001b[38;5;66;03m# Even workload distribution for instructors\u001b[39;00m\n",
      "File \u001b[0;32m~/Desktop/ClassScheduler/python/components/fitness_func.py:256\u001b[0m, in \u001b[0;36mcheck_room_changes\u001b[0;34m(schedule, room_id)\u001b[0m\n\u001b[1;32m    254\u001b[0m \u001b[38;5;28;01mfor\u001b[39;00m day, time_slots \u001b[38;5;129;01min\u001b[39;00m schedule\u001b[38;5;241m.\u001b[39mitems():\n\u001b[1;32m    255\u001b[0m     previous_room \u001b[38;5;241m=\u001b[39m \u001b[38;5;28;01mNone\u001b[39;00m\n\u001b[0;32m--> 256\u001b[0m     sorted_slots \u001b[38;5;241m=\u001b[39m \u001b[38;5;28msorted\u001b[39m(\u001b[43mtime_slots\u001b[49m\u001b[38;5;241;43m.\u001b[39;49m\u001b[43mkeys\u001b[49m())\n\u001b[1;32m    258\u001b[0m     \u001b[38;5;28;01mfor\u001b[39;00m slot \u001b[38;5;129;01min\u001b[39;00m sorted_slots:\n\u001b[1;32m    259\u001b[0m         current_room \u001b[38;5;241m=\u001b[39m time_slots[slot]\n",
      "\u001b[0;31mAttributeError\u001b[0m: 'str' object has no attribute 'keys'"
     ]
    }
   ],
   "source": [
    "calculate_fitness(chromosome, prerequisites)"
   ]
  }
 ],
 "metadata": {
  "kernelspec": {
   "display_name": "Python 3",
   "language": "python",
   "name": "python3"
  },
  "language_info": {
   "codemirror_mode": {
    "name": "ipython",
    "version": 3
   },
   "file_extension": ".py",
   "mimetype": "text/x-python",
   "name": "python",
   "nbconvert_exporter": "python",
   "pygments_lexer": "ipython3",
   "version": "3.11.5"
  }
 },
 "nbformat": 4,
 "nbformat_minor": 2
}
