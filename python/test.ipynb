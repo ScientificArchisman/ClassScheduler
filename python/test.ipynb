{
 "cells": [
  {
   "cell_type": "code",
   "execution_count": 17,
   "metadata": {},
   "outputs": [],
   "source": [
    "from input_handler import get_data_from_files\n",
    "from chromosome_generator import generate_chromosome, chromosome_to_json, Gene\n",
    "from genetic_algorithm import  generate_population, population_to_json"
   ]
  },
  {
   "cell_type": "code",
   "execution_count": 18,
   "metadata": {},
   "outputs": [],
   "source": [
    "courses_path = \"/Users/archismanchakraborti/Desktop/ClassScheduler/data/courses.txt\"\n",
    "rooms_path = \"/Users/archismanchakraborti/Desktop/ClassScheduler/data/rooms.txt\"\n",
    "instruc_path = \"/Users/archismanchakraborti/Desktop/ClassScheduler/data/instructors.txt\"\n",
    "students_path = \"/Users/archismanchakraborti/Desktop/ClassScheduler/data/students.txt\""
   ]
  },
  {
   "cell_type": "code",
   "execution_count": 4,
   "metadata": {},
   "outputs": [],
   "source": [
    "courses, instructors, rooms, students = get_data_from_files()"
   ]
  },
  {
   "cell_type": "code",
   "execution_count": 19,
   "metadata": {},
   "outputs": [],
   "source": [
    "def display_chromosome(chromosome):\n",
    "    for gene in chromosome:\n",
    "        print(f\"Course: {gene.course.name}, Instructor: {gene.instructor.name}, Room: {gene.room.name}, Day: {gene.day}, Time Slot: {gene.time_slot}\")\n",
    "        \n",
    "chromosome_data = generate_chromosome(courses, instructors, rooms)"
   ]
  },
  {
   "cell_type": "code",
   "execution_count": 21,
   "metadata": {},
   "outputs": [],
   "source": [
    "population_size = 10\n",
    "population = generate_population(population_size, courses, instructors, rooms)"
   ]
  },
  {
   "cell_type": "code",
   "execution_count": 34,
   "metadata": {},
   "outputs": [
    {
     "name": "stdout",
     "output_type": "stream",
     "text": [
      "[\n",
      "    {\n",
      "        \"course\": {\n",
      "            \"id\": \"2\",\n",
      "            \"name\": \"Chem 101\",\n",
      "            \"duration\": \"2\",\n",
      "            \"required_room\": \"Lab\",\n",
      "            \"enrolled_students\": \"25\"\n",
      "        },\n",
      "        \"instructor\": {\n",
      "            \"id\": \"1\",\n",
      "            \"name\": \"Dr. Smith\",\n",
      "            \"availability\": {\n",
      "                \"Mon\": [\n",
      "                    \"9-11\"\n",
      "                ],\n",
      "                \"Tue\": [\n",
      "                    \"1-3\"\n",
      "                ]\n",
      "            },\n",
      "            \"preferred_slots\": [\n",
      "                \"Mon 9-11\"\n",
      "            ],\n",
      "            \"courses\": \"1\"\n",
      "        },\n",
      "        \"room\": {\n",
      "            \"id\": \"1\",\n",
      "            \"name\": \"Lecture Hall A\",\n",
      "            \"capacity\": \"100\",\n",
      "            \"available_slots\": {\n",
      "                \"Mon\": [\n",
      "                    \"9-11\"\n",
      "                ],\n",
      "                \"Tue\": [\n",
      "                    \"1-3\"\n",
      "                ]\n",
      "            }\n",
      "        },\n",
      "        \"day\": \"Fri\",\n",
      "        \"time_slot\": \"10-11\"\n",
      "    },\n",
      "    {\n",
      "        \"course\": {\n",
      "            \"id\": \"1\",\n",
      "            \"name\": \"Math 101\",\n",
      "            \"duration\": \"3\",\n",
      "            \"required_room\": \"Lecture Hall\",\n",
      "            \"enrolled_students\": \"30\"\n",
      "        },\n",
      "        \"instructor\": {\n",
      "            \"id\": \"2\",\n",
      "            \"name\": \"Dr. Johnson\",\n",
      "            \"availability\": {\n",
      "                \"Mon\": [\n",
      "                    \"10-12\"\n",
      "                ],\n",
      "                \"Wed\": [\n",
      "                    \"2-4\"\n",
      "                ]\n",
      "            },\n",
      "            \"preferred_slots\": [\n",
      "                \"Wed 2-4\"\n",
      "            ],\n",
      "            \"courses\": \"2\"\n",
      "        },\n",
      "        \"room\": {\n",
      "            \"id\": \"1\",\n",
      "            \"name\": \"Lecture Hall A\",\n",
      "            \"capacity\": \"100\",\n",
      "            \"available_slots\": {\n",
      "                \"Mon\": [\n",
      "                    \"9-11\"\n",
      "                ],\n",
      "                \"Tue\": [\n",
      "                    \"1-3\"\n",
      "                ]\n",
      "            }\n",
      "        },\n",
      "        \"day\": \"Tue\",\n",
      "        \"time_slot\": \"6-7\"\n",
      "    }\n",
      "]\n"
     ]
    }
   ],
   "source": [
    "print(chromosome_to_json(population[-2]))"
   ]
  },
  {
   "cell_type": "code",
   "execution_count": null,
   "metadata": {},
   "outputs": [],
   "source": []
  }
 ],
 "metadata": {
  "kernelspec": {
   "display_name": "Python 3",
   "language": "python",
   "name": "python3"
  },
  "language_info": {
   "codemirror_mode": {
    "name": "ipython",
    "version": 3
   },
   "file_extension": ".py",
   "mimetype": "text/x-python",
   "name": "python",
   "nbconvert_exporter": "python",
   "pygments_lexer": "ipython3",
   "version": "3.11.5"
  }
 },
 "nbformat": 4,
 "nbformat_minor": 2
}
